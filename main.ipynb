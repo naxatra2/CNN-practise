{
 "cells": [
  {
   "cell_type": "code",
   "execution_count": 3,
   "metadata": {},
   "outputs": [],
   "source": [
    "import cv2 as cv\n",
    "import numpy as np"
   ]
  },
  {
   "cell_type": "code",
   "execution_count": 3,
   "metadata": {},
   "outputs": [],
   "source": [
    "img = cv.imread('photos/cat_large.jpg')"
   ]
  },
  {
   "cell_type": "code",
   "execution_count": 1,
   "metadata": {},
   "outputs": [],
   "source": [
    "import cv2\n",
    "\n",
    "# Load an image\n",
    "image = cv2.imread('photos/cat_large.jpg')\n",
    "\n",
    "# Display the image in a window\n",
    "cv2.imshow('Image', image)\n",
    "\n",
    "# Wait for a key press indefinitely\n",
    "cv2.waitKey(0)\n",
    "\n",
    "# Destroy the window\n",
    "cv2.destroyAllWindows()"
   ]
  },
  {
   "cell_type": "markdown",
   "metadata": {},
   "source": [
    "# Resizing an image\n"
   ]
  },
  {
   "cell_type": "code",
   "execution_count": 3,
   "metadata": {},
   "outputs": [],
   "source": [
    "def rescale_frame(frame, scale = 0.75):\n",
    "    width = int(frame.shape[1] * scale)\n",
    "    height = int(frame.shape[0] * scale)\n",
    "\n",
    "    return cv.resize(frame, (width, height), interpolation = cv.INTER_AREA)\n",
    "\n"
   ]
  },
  {
   "cell_type": "markdown",
   "metadata": {},
   "source": [
    "# Adding shapes in an image"
   ]
  },
  {
   "cell_type": "code",
   "execution_count": 11,
   "metadata": {},
   "outputs": [
    {
     "data": {
      "text/plain": [
       "-1"
      ]
     },
     "execution_count": 11,
     "metadata": {},
     "output_type": "execute_result"
    }
   ],
   "source": [
    "\n",
    "import cv2 as cv\n",
    "import numpy as np\n",
    "draw = np.zeros((500,500,3), dtype = 'uint8')\n",
    "#adding random color on the blank image\n",
    "draw[:] = 0,250,250\n",
    "#adding a rectangle using built in rectangle function\n",
    "cv.rectangle(draw, (0,0), (250, 250), (0,0,255), thickness = 2)\n",
    "cv.rectangle(draw, (10,10), (20, 20), (0,0,255), thickness = 2)\n",
    "#adding circles using built in circle function\n",
    "cv.circle(draw, (250,250), 40, (0,255,0), thickness = 2)\n",
    "#adding a line using built in line function\n",
    "cv.line(draw, (0,0), (250,250), (255,0,0), thickness = 2)\n",
    "#adding text using built in putText function\n",
    "cv.putText(draw, \"Hello World\", (10, 450), cv.FONT_HERSHEY_COMPLEX, 1, (0,150,0), thickness = 2)\n",
    "cv.imshow(\"draw\", draw)\n",
    "cv.waitKey(0)"
   ]
  },
  {
   "cell_type": "markdown",
   "metadata": {},
   "source": [
    "# Converting Images to other formats"
   ]
  },
  {
   "cell_type": "markdown",
   "metadata": {},
   "source": [
    "Images in openCV are stored in a BGR fromat. we can convert it specifically using built in functions.\n"
   ]
  },
  {
   "cell_type": "code",
   "execution_count": 1,
   "metadata": {},
   "outputs": [],
   "source": [
    "import cv2 as cv\n",
    "\n",
    "image = cv.imread('photos/cat.jpg')\n"
   ]
  },
  {
   "cell_type": "code",
   "execution_count": 7,
   "metadata": {},
   "outputs": [],
   "source": [
    "blur = cv.GaussianBlur(image, (113,1111), cv.BORDER_DEFAULT)\n",
    "cv.imshow(\"blur\", blur)\n",
    "\n",
    "cv.waitKey(0)\n",
    "#image = cv.imread('photos/cat.jpg')\n",
    "cv.destroyAllWindows()"
   ]
  },
  {
   "cell_type": "markdown",
   "metadata": {},
   "source": [
    "### Finding the edges in the image\n"
   ]
  },
  {
   "cell_type": "code",
   "execution_count": 8,
   "metadata": {},
   "outputs": [],
   "source": [
    "canny = cv.Canny(image, 125, 175)"
   ]
  },
  {
   "cell_type": "code",
   "execution_count": 9,
   "metadata": {},
   "outputs": [],
   "source": [
    "cv.imshow(\"canny\", canny)\n",
    "\n",
    "cv.waitKey(0)\n",
    "cv.destroyAllWindows()"
   ]
  },
  {
   "cell_type": "code",
   "execution_count": null,
   "metadata": {},
   "outputs": [],
   "source": []
  }
 ],
 "metadata": {
  "kernelspec": {
   "display_name": "base",
   "language": "python",
   "name": "python3"
  },
  "language_info": {
   "codemirror_mode": {
    "name": "ipython",
    "version": 3
   },
   "file_extension": ".py",
   "mimetype": "text/x-python",
   "name": "python",
   "nbconvert_exporter": "python",
   "pygments_lexer": "ipython3",
   "version": "3.11.5"
  }
 },
 "nbformat": 4,
 "nbformat_minor": 2
}
